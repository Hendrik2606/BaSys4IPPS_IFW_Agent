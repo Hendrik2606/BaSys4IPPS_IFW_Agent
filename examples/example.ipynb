{
 "cells": [
  {
   "cell_type": "code",
   "execution_count": 1,
   "metadata": {},
   "outputs": [],
   "source": [
    "import logging\n",
    "import pandas as pd\n",
    "\n",
    "from examples.test_data_initialization import example_sensor_data, get_test_files"
   ]
  },
  {
   "attachments": {},
   "cell_type": "markdown",
   "metadata": {},
   "source": [
    "## Load configuration for training & testing"
   ]
  },
  {
   "cell_type": "code",
   "execution_count": 2,
   "metadata": {},
   "outputs": [
    {
     "name": "stdout",
     "output_type": "stream",
     "text": [
      "Reading config file 'C:/git/BaSys4IPPS_IFW_Agent/config.yaml'\n"
     ]
    }
   ],
   "source": [
    "from basys4ipps_ifw_agent.agent.basys_agent import BasysAgent, BasysConfig\n",
    "from pathlib import Path\n",
    "\n",
    "basys_config = BasysConfig.load(create_if_none=True, path=Path(\"../config.yaml\"))\n",
    "basys_config.alpha_safety_factor = 0.999\n",
    "basys_config.tsfresh_features = Path(*Path(basys_config.tsfresh_features).parts[1:]).as_posix()\n",
    "basys_config.tsfresh_random_forest = Path(*Path(basys_config.tsfresh_random_forest).parts[1:]).as_posix()\n",
    "basys_config.use_tsfresh_features = True"
   ]
  },
  {
   "attachments": {},
   "cell_type": "markdown",
   "metadata": {},
   "source": [
    "# Prepare training data"
   ]
  },
  {
   "cell_type": "code",
   "execution_count": 3,
   "metadata": {},
   "outputs": [
    {
     "name": "stdout",
     "output_type": "stream",
     "text": [
      "Found 14 files!\n"
     ]
    }
   ],
   "source": [
    "all_files = get_test_files(\"./train\" )\n",
    "\n",
    "training_index = list(range(20))\n",
    "\n",
    "x_train, x_test = example_sensor_data(all_files, training_index, test_index=115, sensor=5,\n",
    "                                      basys_config=basys_config)"
   ]
  },
  {
   "attachments": {},
   "cell_type": "markdown",
   "metadata": {},
   "source": [
    "# Train & Test"
   ]
  },
  {
   "cell_type": "code",
   "execution_count": 4,
   "metadata": {},
   "outputs": [
    {
     "name": "stderr",
     "output_type": "stream",
     "text": [
      "INFO:BasysLogger:Extract features from training data\n"
     ]
    },
    {
     "name": "stdout",
     "output_type": "stream",
     "text": [
      "Using tsfresh features from  tsfresh_features.json\n"
     ]
    },
    {
     "name": "stderr",
     "output_type": "stream",
     "text": [
      "Feature Extraction: 100%|██████████| 20/20 [00:02<00:00,  6.77it/s]\n",
      "INFO:BasysLogger:Fit the outlier detection model\n",
      "INFO:BasysLogger:Extract features from test data\n"
     ]
    },
    {
     "name": "stdout",
     "output_type": "stream",
     "text": [
      "Using tsfresh features from  tsfresh_features.json\n"
     ]
    },
    {
     "name": "stderr",
     "output_type": "stream",
     "text": [
      "Feature Extraction: 100%|██████████| 1/1 [00:02<00:00,  2.76s/it]\n",
      "INFO:BasysLogger:Execute decision function\n",
      "INFO:BasysLogger:safety_factor=0.999000,\n",
      "score_prob=[1.]\n",
      "alarm=[ True]\n",
      "exp_downtime=1\n"
     ]
    }
   ],
   "source": [
    "agent = BasysAgent(basys_config)\n",
    "\n",
    "logging.info(\"Start training\")\n",
    "agent.fit(x_train, basys_config)\n",
    "\n",
    "logging.info(\"Start testing\")\n",
    "score_prob, alarm, exp_downtime = agent.predict(x_test, basys_config)"
   ]
  }
 ],
 "metadata": {
  "kernelspec": {
   "display_name": "venv3",
   "language": "python",
   "name": "python3"
  },
  "language_info": {
   "codemirror_mode": {
    "name": "ipython",
    "version": 3
   },
   "file_extension": ".py",
   "mimetype": "text/x-python",
   "name": "python",
   "nbconvert_exporter": "python",
   "pygments_lexer": "ipython3",
   "version": "3.9.0"
  },
  "orig_nbformat": 4
 },
 "nbformat": 4,
 "nbformat_minor": 2
}
