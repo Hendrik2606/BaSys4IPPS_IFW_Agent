{
 "cells": [
  {
   "cell_type": "code",
   "execution_count": 1,
   "metadata": {},
   "outputs": [],
   "source": [
    "import logging\n",
    "import pandas as pd\n",
    "import glob\n",
    "import math\n",
    "from matplotlib import pyplot as plt\n",
    "import numpy as np\n",
    "import csv\n",
    "import time\n",
    "import gc\n",
    "import scipy.stats\n",
    "from scipy.stats import kurtosis\n",
    "from scipy.stats import skew\n",
    "from scipy.stats import iqr\n",
    "from scipy.fft import fft, fftfreq\n",
    "from scipy.signal import find_peaks\n",
    "from scipy.stats import entropy\n",
    "import statsmodels.api as sm\n",
    "from sklearn.preprocessing import StandardScaler\n",
    "from sklearn.preprocessing import MinMaxScaler\n",
    "from sklearn.decomposition import PCA\n",
    "from sklearn.decomposition import FastICA\n",
    "from pandas import read_csv\n",
    "from pandas.plotting import lag_plot\n",
    "from pandas.plotting import autocorrelation_plot\n",
    "from statsmodels.graphics.tsaplots import plot_acf\n",
    "#import pywt\n",
    "from scipy import signal\n",
    "import matplotlib.pyplot as plt\n",
    "from scipy import special\n",
    "from pathlib import Path\n",
    "import re\n",
    "import os\n",
    "from basys4ipps_ifw_agent.agent.extract_features import convert_sensor_data_to_tsfresh_format"
   ]
  },
  {
   "attachments": {},
   "cell_type": "markdown",
   "metadata": {},
   "source": [
    "# Prepare training data"
   ]
  },
  {
   "cell_type": "code",
   "execution_count": 5,
   "metadata": {},
   "outputs": [
    {
     "name": "stdout",
     "output_type": "stream",
     "text": [
      "Found 14 files!\n"
     ]
    },
    {
     "name": "stderr",
     "output_type": "stream",
     "text": [
      "c:\\git\\basys4ipps_ifw_agent\\examples\\test_data_generator.py:49: DtypeWarning: Columns (7,9,13,23,26,32,37,47,50,55,83,87,91,105,108,117,127,129,138,149,151,155,165,168,174,179,189,192,197,225,229,233,247,250,259,269,271,280,291,293,297,307,310,316,321,331,334,339,367,371,375,389,392,401,411,413,422,433,435,439,449,452,458,463,473,476,481,509,513,517,531,534,543,553,555,564,575,577,581,591,594,600,605,615,618,623,651,655,659,673,676,685,695,697,706,717,719,723,733,736,742,747,757,760,765,793,797,801,815,818,827,837,839,848,859,861,865,875,878,884,889,899,902,907,935,939,943,957,960,969,979,981,990,1001,1003,1007,1017,1020,1026,1031,1041,1044,1049,1077,1081,1085,1099,1102,1111,1121,1123,1132,1143,1145,1149,1159,1162,1168,1173,1183,1186,1191,1219,1223,1227,1241,1244,1253,1263,1265,1274,1285,1287,1291,1301,1304,1310,1315,1325,1328,1333,1361,1365,1369,1383,1386,1395,1405,1407,1416,1427,1429,1433,1443,1446,1452,1457,1467,1470,1475,1503,1507,1511,1525,1528,1537,1547,1549,1558,1569,1571,1575,1585,1588,1594,1599,1609,1612,1617,1645,1649,1653,1667,1670,1679,1689,1691,1700,1711,1713,1717,1727,1730,1736,1741,1751,1754,1759,1787,1791,1795,1809,1812,1821,1831,1833,1842,1853,1855,1859,1869,1872,1878,1883,1893,1896,1901,1929,1933,1937,1951,1954,1963,1973,1975,1984,1995,1997,2001,2011,2014,2020,2025,2035,2038,2043,2071,2075,2079,2093,2096,2105,2115,2117,2126,2137,2139,2143,2153,2156,2162,2167,2177,2180,2185,2213,2217,2221,2235,2238,2247,2257,2259,2268) have mixed types. Specify dtype option on import or set low_memory=False.\n",
      "  train_data = pd.read_csv(all_files[sensor - 1], decimal=\",\", sep=\";\", header=0)\n"
     ]
    }
   ],
   "source": [
    "from examples.test_data_generator import example_sensor_data, get_test_files\n",
    "\n",
    "all_files = get_test_files(\"./train\" )\n",
    "\n",
    "training_index = list(range(20))\n",
    "\n",
    "x_train, x_test = example_sensor_data(all_files, training_index, test_index=115, sensor=5)"
   ]
  },
  {
   "attachments": {},
   "cell_type": "markdown",
   "metadata": {},
   "source": [
    "# Train & Test"
   ]
  },
  {
   "attachments": {},
   "cell_type": "markdown",
   "metadata": {},
   "source": [
    "## Create configuration for training & testing"
   ]
  },
  {
   "cell_type": "code",
   "execution_count": 6,
   "metadata": {},
   "outputs": [
    {
     "name": "stdout",
     "output_type": "stream",
     "text": [
      "Reading config file 'C:/git/BaSys4IPPS_IFW_Agent/examples/config.yaml'\n"
     ]
    }
   ],
   "source": [
    "from basys4ipps_ifw_agent.agent.basys_agent import BasysAgent, BasysConfig\n",
    "from pathlib import Path\n",
    "\n",
    "basys_config = BasysConfig.load(create_if_none=True)\n",
    "basys_config.alpha_safety_factor = 0.999\n",
    "basys_config.tsfresh_features = Path(*Path(basys_config.tsfresh_features).parts[1:]).as_posix()\n",
    "basys_config.tsfresh_random_forest = Path(*Path(basys_config.tsfresh_random_forest).parts[1:]).as_posix()\n",
    "basys_config.use_tsfresh_features = True"
   ]
  },
  {
   "cell_type": "code",
   "execution_count": 7,
   "metadata": {},
   "outputs": [
    {
     "name": "stderr",
     "output_type": "stream",
     "text": [
      "INFO:BasysLogger:Using default StandardScaler\n",
      "INFO:BasysLogger:Using KNN outlier detection n_neighbors=5, method=largest\n",
      "INFO:BasysLogger:Extract features from training data\n",
      "Feature Extraction: 100%|██████████| 20/20 [00:03<00:00,  5.92it/s]\n",
      "INFO:BasysLogger:Fit the outlier detection model\n",
      "INFO:BasysLogger:Extract features from test data\n",
      "Feature Extraction: 100%|██████████| 1/1 [00:02<00:00,  2.96s/it]\n",
      "INFO:BasysLogger:Execute decision function\n",
      "INFO:BasysLogger:safety_factor=0.999000,\n",
      "score_prob=[0.]\n",
      "alarm=[False]\n",
      "exp_downtime=1\n"
     ]
    }
   ],
   "source": [
    "# Ende Daten laden ######################################\n",
    "\n",
    "# initialise model\n",
    "# baseline_model = unified_outlier_score(base_model = \"KNN\", outlier_score_scaling = \"gaussian\", alpha_safety_factor = 0.99999, feature_group = \"general_purpose\", feature_scaling_method = \"standardize\", learning_type = \"static\", machine_component = \"axis_drive\", segementation_start = 20, segmentation_end = 710)\n",
    "\n",
    "# fit the model on train data\n",
    "# baseline_model.fit(X_train)\n",
    "\n",
    "# predict using baseline model\n",
    "# score_prob, alarm, exp_downtime = baseline_model.predict(X_test)\n",
    "\n",
    "agent = BasysAgent(basys_config)\n",
    "\n",
    "logging.info(\"Start training\")\n",
    "agent.fit(x_train, basys_config)\n",
    "\n",
    "logging.info(\"Start testing\")\n",
    "score_prob, alarm, exp_downtime = agent.predict(x_test, basys_config)\n"
   ]
  }
 ],
 "metadata": {
  "kernelspec": {
   "display_name": "venv3",
   "language": "python",
   "name": "python3"
  },
  "language_info": {
   "codemirror_mode": {
    "name": "ipython",
    "version": 3
   },
   "file_extension": ".py",
   "mimetype": "text/x-python",
   "name": "python",
   "nbconvert_exporter": "python",
   "pygments_lexer": "ipython3",
   "version": "3.9.0"
  },
  "orig_nbformat": 4
 },
 "nbformat": 4,
 "nbformat_minor": 2
}
